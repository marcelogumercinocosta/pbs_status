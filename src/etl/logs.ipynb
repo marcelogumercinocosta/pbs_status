{
 "metadata": {
  "language_info": {
   "codemirror_mode": {
    "name": "ipython",
    "version": 3
   },
   "file_extension": ".py",
   "mimetype": "text/x-python",
   "name": "python",
   "nbconvert_exporter": "python",
   "pygments_lexer": "ipython3",
   "version": "3.8.9-final"
  },
  "orig_nbformat": 2,
  "kernelspec": {
   "name": "python389jvsc74a57bd01e3949b28eaff49711bee74ba598e5f9374ed19dc218e54f7fbed4f90ff1a29d",
   "display_name": "Python 3.8.9 64-bit ('env')"
  },
  "metadata": {
   "interpreter": {
    "hash": "aee8b7b246df8f9039afb4144a1f6fd8d2ca17a180786b69acc140d282b71a49"
   }
  }
 },
 "nbformat": 4,
 "nbformat_minor": 2,
 "cells": [
  {
   "cell_type": "code",
   "execution_count": 2,
   "metadata": {},
   "outputs": [],
   "source": [
    "import os\n",
    "import glob\n",
    "import pandas as pd\n",
    "import warnings\n",
    "import numpy as np\n",
    "warnings.filterwarnings('ignore')"
   ]
  },
  {
   "cell_type": "code",
   "execution_count": 3,
   "metadata": {
    "tags": []
   },
   "outputs": [],
   "source": [
    "allFiles = glob.glob(os.path.join(\"../../data_raw/\",\"*\"))\n",
    "\n",
    "df_logs_full = pd.DataFrame()\n",
    "for file in allFiles:\n",
    "    df = pd.read_table(file, delimiter=\"\\n\",index_col=None, header=0, error_bad_lines=False, names=['logs'],)\n",
    "    df_logs_full = pd.concat([df_logs_full, df])"
   ]
  },
  {
   "cell_type": "code",
   "execution_count": 10,
   "metadata": {},
   "outputs": [
    {
     "output_type": "execute_result",
     "data": {
      "text/plain": [
       "status                confirmed               place             started  \\\n",
       "job_name                                                                  \n",
       "1321791.sdb                 NaT                 NaT                 NaT   \n",
       "1321792.sdb                 NaT                 NaT                 NaT   \n",
       "1321909.sdb                 NaT                 NaT                 NaT   \n",
       "1321910.sdb                 NaT                 NaT                 NaT   \n",
       "1321911.sdb                 NaT                 NaT                 NaT   \n",
       "1321912.sdb 2021-03-10 00:00:48 2021-03-10 00:00:47 2021-03-10 00:00:48   \n",
       "1321913.sdb 2021-03-10 00:01:28 2021-03-10 00:01:28 2021-03-10 00:01:29   \n",
       "1321914.sdb 2021-03-10 00:02:09 2021-03-10 00:02:08 2021-03-10 00:02:09   \n",
       "1321915.sdb 2021-03-10 00:03:09 2021-03-10 00:03:08 2021-03-10 00:03:10   \n",
       "1321916.sdb 2021-03-10 00:03:50 2021-03-10 00:03:49 2021-03-10 00:03:50   \n",
       "1321917.sdb 2021-03-10 00:04:50 2021-03-10 00:04:49 2021-03-10 00:04:51   \n",
       "1321918.sdb 2021-03-10 00:05:31 2021-03-10 00:05:30 2021-03-10 00:05:31   \n",
       "1321919.sdb 2021-03-10 00:06:31 2021-03-10 00:06:31 2021-03-10 00:06:32   \n",
       "1321920.sdb 2021-03-10 00:07:12 2021-03-10 00:07:11 2021-03-10 00:07:12   \n",
       "1321921.sdb 2021-03-10 00:07:52 2021-03-10 00:07:52 2021-03-10 00:07:53   \n",
       "\n",
       "status               terminated  time_allocation  time_run       run  \n",
       "job_name                                                              \n",
       "1321791.sdb 2021-03-10 01:58:37              NaN       NaN       NaN  \n",
       "1321792.sdb 2021-03-10 01:58:40              NaN       NaN       NaN  \n",
       "1321909.sdb 2021-03-10 00:00:21              NaN       NaN       NaN  \n",
       "1321910.sdb 2021-03-10 00:01:22              NaN       NaN       NaN  \n",
       "1321911.sdb 2021-03-10 00:02:02              NaN       NaN       NaN  \n",
       "1321912.sdb 2021-03-10 00:02:57         0.000000  2.150000  2.150000  \n",
       "1321913.sdb 2021-03-10 00:03:30         0.016667  2.016667  2.016667  \n",
       "1321914.sdb 2021-03-10 00:04:10         0.000000  2.016667  2.016667  \n",
       "1321915.sdb 2021-03-10 00:05:19         0.016667  2.150000  2.150000  \n",
       "1321916.sdb 2021-03-10 00:05:49         0.000000  1.983333  1.983333  \n",
       "1321917.sdb 2021-03-10 00:07:03         0.016667  2.200000  2.200000  \n",
       "1321918.sdb 2021-03-10 00:07:34         0.000000  2.050000  2.050000  \n",
       "1321919.sdb 2021-03-10 00:08:26         0.016667  1.900000  1.900000  \n",
       "1321920.sdb 2021-03-10 00:09:06         0.000000  1.900000  1.900000  \n",
       "1321921.sdb 2021-03-10 00:09:58         0.016667  2.083333  2.083333  "
      ],
      "text/html": "<div>\n<style scoped>\n    .dataframe tbody tr th:only-of-type {\n        vertical-align: middle;\n    }\n\n    .dataframe tbody tr th {\n        vertical-align: top;\n    }\n\n    .dataframe thead th {\n        text-align: right;\n    }\n</style>\n<table border=\"1\" class=\"dataframe\">\n  <thead>\n    <tr style=\"text-align: right;\">\n      <th>status</th>\n      <th>confirmed</th>\n      <th>place</th>\n      <th>started</th>\n      <th>terminated</th>\n      <th>time_allocation</th>\n      <th>time_run</th>\n      <th>run</th>\n    </tr>\n    <tr>\n      <th>job_name</th>\n      <th></th>\n      <th></th>\n      <th></th>\n      <th></th>\n      <th></th>\n      <th></th>\n      <th></th>\n    </tr>\n  </thead>\n  <tbody>\n    <tr>\n      <th>1321791.sdb</th>\n      <td>NaT</td>\n      <td>NaT</td>\n      <td>NaT</td>\n      <td>2021-03-10 01:58:37</td>\n      <td>NaN</td>\n      <td>NaN</td>\n      <td>NaN</td>\n    </tr>\n    <tr>\n      <th>1321792.sdb</th>\n      <td>NaT</td>\n      <td>NaT</td>\n      <td>NaT</td>\n      <td>2021-03-10 01:58:40</td>\n      <td>NaN</td>\n      <td>NaN</td>\n      <td>NaN</td>\n    </tr>\n    <tr>\n      <th>1321909.sdb</th>\n      <td>NaT</td>\n      <td>NaT</td>\n      <td>NaT</td>\n      <td>2021-03-10 00:00:21</td>\n      <td>NaN</td>\n      <td>NaN</td>\n      <td>NaN</td>\n    </tr>\n    <tr>\n      <th>1321910.sdb</th>\n      <td>NaT</td>\n      <td>NaT</td>\n      <td>NaT</td>\n      <td>2021-03-10 00:01:22</td>\n      <td>NaN</td>\n      <td>NaN</td>\n      <td>NaN</td>\n    </tr>\n    <tr>\n      <th>1321911.sdb</th>\n      <td>NaT</td>\n      <td>NaT</td>\n      <td>NaT</td>\n      <td>2021-03-10 00:02:02</td>\n      <td>NaN</td>\n      <td>NaN</td>\n      <td>NaN</td>\n    </tr>\n    <tr>\n      <th>1321912.sdb</th>\n      <td>2021-03-10 00:00:48</td>\n      <td>2021-03-10 00:00:47</td>\n      <td>2021-03-10 00:00:48</td>\n      <td>2021-03-10 00:02:57</td>\n      <td>0.000000</td>\n      <td>2.150000</td>\n      <td>2.150000</td>\n    </tr>\n    <tr>\n      <th>1321913.sdb</th>\n      <td>2021-03-10 00:01:28</td>\n      <td>2021-03-10 00:01:28</td>\n      <td>2021-03-10 00:01:29</td>\n      <td>2021-03-10 00:03:30</td>\n      <td>0.016667</td>\n      <td>2.016667</td>\n      <td>2.016667</td>\n    </tr>\n    <tr>\n      <th>1321914.sdb</th>\n      <td>2021-03-10 00:02:09</td>\n      <td>2021-03-10 00:02:08</td>\n      <td>2021-03-10 00:02:09</td>\n      <td>2021-03-10 00:04:10</td>\n      <td>0.000000</td>\n      <td>2.016667</td>\n      <td>2.016667</td>\n    </tr>\n    <tr>\n      <th>1321915.sdb</th>\n      <td>2021-03-10 00:03:09</td>\n      <td>2021-03-10 00:03:08</td>\n      <td>2021-03-10 00:03:10</td>\n      <td>2021-03-10 00:05:19</td>\n      <td>0.016667</td>\n      <td>2.150000</td>\n      <td>2.150000</td>\n    </tr>\n    <tr>\n      <th>1321916.sdb</th>\n      <td>2021-03-10 00:03:50</td>\n      <td>2021-03-10 00:03:49</td>\n      <td>2021-03-10 00:03:50</td>\n      <td>2021-03-10 00:05:49</td>\n      <td>0.000000</td>\n      <td>1.983333</td>\n      <td>1.983333</td>\n    </tr>\n    <tr>\n      <th>1321917.sdb</th>\n      <td>2021-03-10 00:04:50</td>\n      <td>2021-03-10 00:04:49</td>\n      <td>2021-03-10 00:04:51</td>\n      <td>2021-03-10 00:07:03</td>\n      <td>0.016667</td>\n      <td>2.200000</td>\n      <td>2.200000</td>\n    </tr>\n    <tr>\n      <th>1321918.sdb</th>\n      <td>2021-03-10 00:05:31</td>\n      <td>2021-03-10 00:05:30</td>\n      <td>2021-03-10 00:05:31</td>\n      <td>2021-03-10 00:07:34</td>\n      <td>0.000000</td>\n      <td>2.050000</td>\n      <td>2.050000</td>\n    </tr>\n    <tr>\n      <th>1321919.sdb</th>\n      <td>2021-03-10 00:06:31</td>\n      <td>2021-03-10 00:06:31</td>\n      <td>2021-03-10 00:06:32</td>\n      <td>2021-03-10 00:08:26</td>\n      <td>0.016667</td>\n      <td>1.900000</td>\n      <td>1.900000</td>\n    </tr>\n    <tr>\n      <th>1321920.sdb</th>\n      <td>2021-03-10 00:07:12</td>\n      <td>2021-03-10 00:07:11</td>\n      <td>2021-03-10 00:07:12</td>\n      <td>2021-03-10 00:09:06</td>\n      <td>0.000000</td>\n      <td>1.900000</td>\n      <td>1.900000</td>\n    </tr>\n    <tr>\n      <th>1321921.sdb</th>\n      <td>2021-03-10 00:07:52</td>\n      <td>2021-03-10 00:07:52</td>\n      <td>2021-03-10 00:07:53</td>\n      <td>2021-03-10 00:09:58</td>\n      <td>0.016667</td>\n      <td>2.083333</td>\n      <td>2.083333</td>\n    </tr>\n  </tbody>\n</table>\n</div>"
     },
     "metadata": {},
     "execution_count": 10
    }
   ],
   "source": [
    "df_logs = df_logs_full[df_logs_full['logs'].str.contains(';Job;', regex=False)]\n",
    "df_logs = df_logs['logs'].str.split(pat=\";\", expand=True)\n",
    "df_logs.columns = ['date','job_id','pbs_status','key','job_name','status']\n",
    "df_logs = df_logs[df_logs['status'].str.contains('Resource_List|Confirming ALPS reservation|Started, pid|Terminated', regex=True)]\n",
    "df_logs = df_logs.replace(r'^Resource_List.*','place', regex=True)\n",
    "df_logs = df_logs.replace(r'^Confirming ALPS reservation.*','confirmed', regex=True)\n",
    "df_logs = df_logs.replace(r'^Started, pid.*','started', regex=True)\n",
    "df_logs = df_logs.replace(r'^Terminated.*','terminated', regex=True)\n",
    "df_logs['date']=pd.to_datetime(df_logs['date'] , format='%m/%d/%Y %H:%M:%S')\n",
    "df_logs_filtrados = df_logs[['job_name','status','date']]\n",
    "df_logs_status = df_logs_filtrados.pivot(index='job_name', columns='status', values='date')\n",
    "df_logs_status['time_allocation'] = (df_logs_status['started'] - df_logs_status['confirmed']).dt.seconds/60\n",
    "df_logs_status['time_run'] = (df_logs_status['terminated'] - df_logs_status['started']).dt.seconds/60\n",
    "df_logs_status['run'] = (df_logs_status['terminated'] - df_logs_status['started']).dt.seconds/60\n",
    "df_logs_status.head(15)"
   ]
  },
  {
   "cell_type": "code",
   "execution_count": 26,
   "metadata": {},
   "outputs": [
    {
     "output_type": "execute_result",
     "data": {
      "text/plain": [
       "  user_name     job_name architecture width depth nppn\n",
       "9     user0  1334289.sdb           XT  1160     1   40\n",
       "9     user0  1334289.sdb           XT  1160     1   40\n",
       "9     user0  1334289.sdb           XT    40     1   40\n",
       "9     user0  1334289.sdb           XT     1     1    1\n",
       "9     user0  1331240.sdb           XT  1160     1   40"
      ],
      "text/html": "<div>\n<style scoped>\n    .dataframe tbody tr th:only-of-type {\n        vertical-align: middle;\n    }\n\n    .dataframe tbody tr th {\n        vertical-align: top;\n    }\n\n    .dataframe thead th {\n        text-align: right;\n    }\n</style>\n<table border=\"1\" class=\"dataframe\">\n  <thead>\n    <tr style=\"text-align: right;\">\n      <th></th>\n      <th>user_name</th>\n      <th>job_name</th>\n      <th>architecture</th>\n      <th>width</th>\n      <th>depth</th>\n      <th>nppn</th>\n    </tr>\n  </thead>\n  <tbody>\n    <tr>\n      <th>9</th>\n      <td>user0</td>\n      <td>1334289.sdb</td>\n      <td>XT</td>\n      <td>1160</td>\n      <td>1</td>\n      <td>40</td>\n    </tr>\n    <tr>\n      <th>9</th>\n      <td>user0</td>\n      <td>1334289.sdb</td>\n      <td>XT</td>\n      <td>1160</td>\n      <td>1</td>\n      <td>40</td>\n    </tr>\n    <tr>\n      <th>9</th>\n      <td>user0</td>\n      <td>1334289.sdb</td>\n      <td>XT</td>\n      <td>40</td>\n      <td>1</td>\n      <td>40</td>\n    </tr>\n    <tr>\n      <th>9</th>\n      <td>user0</td>\n      <td>1334289.sdb</td>\n      <td>XT</td>\n      <td>1</td>\n      <td>1</td>\n      <td>1</td>\n    </tr>\n    <tr>\n      <th>9</th>\n      <td>user0</td>\n      <td>1331240.sdb</td>\n      <td>XT</td>\n      <td>1160</td>\n      <td>1</td>\n      <td>40</td>\n    </tr>\n  </tbody>\n</table>\n</div>"
     },
     "metadata": {},
     "execution_count": 26
    }
   ],
   "source": [
    "df_id_user_name = df_logs_full[df_logs_full['logs'].str.contains(r'<.*user_name', regex=True)]\n",
    "df_id_user_name = df_id_user_name.replace( r'^.*user_name=\"|\" batch_id=\"|\">$',\";\", regex=True).replace(r'^;|;$',\"\", regex=True)\n",
    "df_id_user_name = df_id_user_name['logs'].str.split(pat=\";\", expand=True)\n",
    "df_id_user_arc = df_logs_full[df_logs_full['logs'].str.contains(r'<.*architecture', regex=True)]\n",
    "df_id_user_arc = df_id_user_arc.replace({'logs': r'^.*<ReserveParam architecture=\"|\" width=\"|\" depth=\"|\" nppn=\"|\">$' }, {'logs': \";\"}, regex=True).replace(r'^;|;$',\"\", regex=True)\n",
    "df_id_user_arc = df_id_user_arc['logs'].str.split(pat=\";\", expand=True)\n",
    "df_id_user_arc.index = df_id_user_arc.index -1\n",
    "df_id = df_id_user_name.join(df_id_user_arc, lsuffix='_user_name', rsuffix='_arc')\n",
    "df_id.columns = ['user_name','job_name','architecture','width','depth','nppn']\n",
    "# Altera o Nome do User para Git\n",
    "nomes_antivos = df_id['user_name'].unique()\n",
    "nomes_novos = [f\"user{x}\" for x in list(range(0,len(nomes_antivos)))]\n",
    "df_id['user_name'] = df_id['user_name'].replace(nomes_antivos, nomes_novos)\n",
    "df_id.head()"
   ]
  },
  {
   "cell_type": "code",
   "execution_count": 27,
   "metadata": {},
   "outputs": [
    {
     "output_type": "execute_result",
     "data": {
      "text/plain": [
       "            user_name architecture width depth nppn           confirmed  \\\n",
       "job_name                                                                  \n",
       "1321912.sdb     user3           XT     2    40    1 2021-03-10 00:00:48   \n",
       "1321913.sdb     user3           XT  1160     1   40 2021-03-10 00:01:28   \n",
       "1321913.sdb     user3           XT     2    40    1 2021-03-10 00:01:28   \n",
       "1321914.sdb     user3           XT    40     1   40 2021-03-10 00:02:09   \n",
       "1321914.sdb     user3           XT     2    40    1 2021-03-10 00:02:09   \n",
       "1321915.sdb     user3           XT     2    40    1 2021-03-10 00:03:09   \n",
       "1321916.sdb     user3           XT     2    40    1 2021-03-10 00:03:50   \n",
       "1321917.sdb     user3           XT     2    40    1 2021-03-10 00:04:50   \n",
       "1321918.sdb     user3           XT     1    40    1 2021-03-10 00:05:31   \n",
       "1321918.sdb     user3           XT     2    40    1 2021-03-10 00:05:31   \n",
       "1321918.sdb     user3           XT     1     1    1 2021-03-10 00:05:31   \n",
       "1321919.sdb     user3           XT    22    40    1 2021-03-10 00:06:31   \n",
       "1321919.sdb     user3           XT     2    40    1 2021-03-10 00:06:31   \n",
       "1321920.sdb     user3           XT     2    40    1 2021-03-10 00:07:12   \n",
       "1321921.sdb     user3           XT     2    40    1 2021-03-10 00:07:52   \n",
       "\n",
       "                          place             started          terminated  \\\n",
       "job_name                                                                  \n",
       "1321912.sdb 2021-03-10 00:00:47 2021-03-10 00:00:48 2021-03-10 00:02:57   \n",
       "1321913.sdb 2021-03-10 00:01:28 2021-03-10 00:01:29 2021-03-10 00:03:30   \n",
       "1321913.sdb 2021-03-10 00:01:28 2021-03-10 00:01:29 2021-03-10 00:03:30   \n",
       "1321914.sdb 2021-03-10 00:02:08 2021-03-10 00:02:09 2021-03-10 00:04:10   \n",
       "1321914.sdb 2021-03-10 00:02:08 2021-03-10 00:02:09 2021-03-10 00:04:10   \n",
       "1321915.sdb 2021-03-10 00:03:08 2021-03-10 00:03:10 2021-03-10 00:05:19   \n",
       "1321916.sdb 2021-03-10 00:03:49 2021-03-10 00:03:50 2021-03-10 00:05:49   \n",
       "1321917.sdb 2021-03-10 00:04:49 2021-03-10 00:04:51 2021-03-10 00:07:03   \n",
       "1321918.sdb 2021-03-10 00:05:30 2021-03-10 00:05:31 2021-03-10 00:07:34   \n",
       "1321918.sdb 2021-03-10 00:05:30 2021-03-10 00:05:31 2021-03-10 00:07:34   \n",
       "1321918.sdb 2021-03-10 00:05:30 2021-03-10 00:05:31 2021-03-10 00:07:34   \n",
       "1321919.sdb 2021-03-10 00:06:31 2021-03-10 00:06:32 2021-03-10 00:08:26   \n",
       "1321919.sdb 2021-03-10 00:06:31 2021-03-10 00:06:32 2021-03-10 00:08:26   \n",
       "1321920.sdb 2021-03-10 00:07:11 2021-03-10 00:07:12 2021-03-10 00:09:06   \n",
       "1321921.sdb 2021-03-10 00:07:52 2021-03-10 00:07:53 2021-03-10 00:09:58   \n",
       "\n",
       "             time_allocation  time_run       run  \n",
       "job_name                                          \n",
       "1321912.sdb         0.000000  2.150000  2.150000  \n",
       "1321913.sdb         0.016667  2.016667  2.016667  \n",
       "1321913.sdb         0.016667  2.016667  2.016667  \n",
       "1321914.sdb         0.000000  2.016667  2.016667  \n",
       "1321914.sdb         0.000000  2.016667  2.016667  \n",
       "1321915.sdb         0.016667  2.150000  2.150000  \n",
       "1321916.sdb         0.000000  1.983333  1.983333  \n",
       "1321917.sdb         0.016667  2.200000  2.200000  \n",
       "1321918.sdb         0.000000  2.050000  2.050000  \n",
       "1321918.sdb         0.000000  2.050000  2.050000  \n",
       "1321918.sdb         0.000000  2.050000  2.050000  \n",
       "1321919.sdb         0.016667  1.900000  1.900000  \n",
       "1321919.sdb         0.016667  1.900000  1.900000  \n",
       "1321920.sdb         0.000000  1.900000  1.900000  \n",
       "1321921.sdb         0.016667  2.083333  2.083333  "
      ],
      "text/html": "<div>\n<style scoped>\n    .dataframe tbody tr th:only-of-type {\n        vertical-align: middle;\n    }\n\n    .dataframe tbody tr th {\n        vertical-align: top;\n    }\n\n    .dataframe thead th {\n        text-align: right;\n    }\n</style>\n<table border=\"1\" class=\"dataframe\">\n  <thead>\n    <tr style=\"text-align: right;\">\n      <th></th>\n      <th>user_name</th>\n      <th>architecture</th>\n      <th>width</th>\n      <th>depth</th>\n      <th>nppn</th>\n      <th>confirmed</th>\n      <th>place</th>\n      <th>started</th>\n      <th>terminated</th>\n      <th>time_allocation</th>\n      <th>time_run</th>\n      <th>run</th>\n    </tr>\n    <tr>\n      <th>job_name</th>\n      <th></th>\n      <th></th>\n      <th></th>\n      <th></th>\n      <th></th>\n      <th></th>\n      <th></th>\n      <th></th>\n      <th></th>\n      <th></th>\n      <th></th>\n      <th></th>\n    </tr>\n  </thead>\n  <tbody>\n    <tr>\n      <th>1321912.sdb</th>\n      <td>user3</td>\n      <td>XT</td>\n      <td>2</td>\n      <td>40</td>\n      <td>1</td>\n      <td>2021-03-10 00:00:48</td>\n      <td>2021-03-10 00:00:47</td>\n      <td>2021-03-10 00:00:48</td>\n      <td>2021-03-10 00:02:57</td>\n      <td>0.000000</td>\n      <td>2.150000</td>\n      <td>2.150000</td>\n    </tr>\n    <tr>\n      <th>1321913.sdb</th>\n      <td>user3</td>\n      <td>XT</td>\n      <td>1160</td>\n      <td>1</td>\n      <td>40</td>\n      <td>2021-03-10 00:01:28</td>\n      <td>2021-03-10 00:01:28</td>\n      <td>2021-03-10 00:01:29</td>\n      <td>2021-03-10 00:03:30</td>\n      <td>0.016667</td>\n      <td>2.016667</td>\n      <td>2.016667</td>\n    </tr>\n    <tr>\n      <th>1321913.sdb</th>\n      <td>user3</td>\n      <td>XT</td>\n      <td>2</td>\n      <td>40</td>\n      <td>1</td>\n      <td>2021-03-10 00:01:28</td>\n      <td>2021-03-10 00:01:28</td>\n      <td>2021-03-10 00:01:29</td>\n      <td>2021-03-10 00:03:30</td>\n      <td>0.016667</td>\n      <td>2.016667</td>\n      <td>2.016667</td>\n    </tr>\n    <tr>\n      <th>1321914.sdb</th>\n      <td>user3</td>\n      <td>XT</td>\n      <td>40</td>\n      <td>1</td>\n      <td>40</td>\n      <td>2021-03-10 00:02:09</td>\n      <td>2021-03-10 00:02:08</td>\n      <td>2021-03-10 00:02:09</td>\n      <td>2021-03-10 00:04:10</td>\n      <td>0.000000</td>\n      <td>2.016667</td>\n      <td>2.016667</td>\n    </tr>\n    <tr>\n      <th>1321914.sdb</th>\n      <td>user3</td>\n      <td>XT</td>\n      <td>2</td>\n      <td>40</td>\n      <td>1</td>\n      <td>2021-03-10 00:02:09</td>\n      <td>2021-03-10 00:02:08</td>\n      <td>2021-03-10 00:02:09</td>\n      <td>2021-03-10 00:04:10</td>\n      <td>0.000000</td>\n      <td>2.016667</td>\n      <td>2.016667</td>\n    </tr>\n    <tr>\n      <th>1321915.sdb</th>\n      <td>user3</td>\n      <td>XT</td>\n      <td>2</td>\n      <td>40</td>\n      <td>1</td>\n      <td>2021-03-10 00:03:09</td>\n      <td>2021-03-10 00:03:08</td>\n      <td>2021-03-10 00:03:10</td>\n      <td>2021-03-10 00:05:19</td>\n      <td>0.016667</td>\n      <td>2.150000</td>\n      <td>2.150000</td>\n    </tr>\n    <tr>\n      <th>1321916.sdb</th>\n      <td>user3</td>\n      <td>XT</td>\n      <td>2</td>\n      <td>40</td>\n      <td>1</td>\n      <td>2021-03-10 00:03:50</td>\n      <td>2021-03-10 00:03:49</td>\n      <td>2021-03-10 00:03:50</td>\n      <td>2021-03-10 00:05:49</td>\n      <td>0.000000</td>\n      <td>1.983333</td>\n      <td>1.983333</td>\n    </tr>\n    <tr>\n      <th>1321917.sdb</th>\n      <td>user3</td>\n      <td>XT</td>\n      <td>2</td>\n      <td>40</td>\n      <td>1</td>\n      <td>2021-03-10 00:04:50</td>\n      <td>2021-03-10 00:04:49</td>\n      <td>2021-03-10 00:04:51</td>\n      <td>2021-03-10 00:07:03</td>\n      <td>0.016667</td>\n      <td>2.200000</td>\n      <td>2.200000</td>\n    </tr>\n    <tr>\n      <th>1321918.sdb</th>\n      <td>user3</td>\n      <td>XT</td>\n      <td>1</td>\n      <td>40</td>\n      <td>1</td>\n      <td>2021-03-10 00:05:31</td>\n      <td>2021-03-10 00:05:30</td>\n      <td>2021-03-10 00:05:31</td>\n      <td>2021-03-10 00:07:34</td>\n      <td>0.000000</td>\n      <td>2.050000</td>\n      <td>2.050000</td>\n    </tr>\n    <tr>\n      <th>1321918.sdb</th>\n      <td>user3</td>\n      <td>XT</td>\n      <td>2</td>\n      <td>40</td>\n      <td>1</td>\n      <td>2021-03-10 00:05:31</td>\n      <td>2021-03-10 00:05:30</td>\n      <td>2021-03-10 00:05:31</td>\n      <td>2021-03-10 00:07:34</td>\n      <td>0.000000</td>\n      <td>2.050000</td>\n      <td>2.050000</td>\n    </tr>\n    <tr>\n      <th>1321918.sdb</th>\n      <td>user3</td>\n      <td>XT</td>\n      <td>1</td>\n      <td>1</td>\n      <td>1</td>\n      <td>2021-03-10 00:05:31</td>\n      <td>2021-03-10 00:05:30</td>\n      <td>2021-03-10 00:05:31</td>\n      <td>2021-03-10 00:07:34</td>\n      <td>0.000000</td>\n      <td>2.050000</td>\n      <td>2.050000</td>\n    </tr>\n    <tr>\n      <th>1321919.sdb</th>\n      <td>user3</td>\n      <td>XT</td>\n      <td>22</td>\n      <td>40</td>\n      <td>1</td>\n      <td>2021-03-10 00:06:31</td>\n      <td>2021-03-10 00:06:31</td>\n      <td>2021-03-10 00:06:32</td>\n      <td>2021-03-10 00:08:26</td>\n      <td>0.016667</td>\n      <td>1.900000</td>\n      <td>1.900000</td>\n    </tr>\n    <tr>\n      <th>1321919.sdb</th>\n      <td>user3</td>\n      <td>XT</td>\n      <td>2</td>\n      <td>40</td>\n      <td>1</td>\n      <td>2021-03-10 00:06:31</td>\n      <td>2021-03-10 00:06:31</td>\n      <td>2021-03-10 00:06:32</td>\n      <td>2021-03-10 00:08:26</td>\n      <td>0.016667</td>\n      <td>1.900000</td>\n      <td>1.900000</td>\n    </tr>\n    <tr>\n      <th>1321920.sdb</th>\n      <td>user3</td>\n      <td>XT</td>\n      <td>2</td>\n      <td>40</td>\n      <td>1</td>\n      <td>2021-03-10 00:07:12</td>\n      <td>2021-03-10 00:07:11</td>\n      <td>2021-03-10 00:07:12</td>\n      <td>2021-03-10 00:09:06</td>\n      <td>0.000000</td>\n      <td>1.900000</td>\n      <td>1.900000</td>\n    </tr>\n    <tr>\n      <th>1321921.sdb</th>\n      <td>user3</td>\n      <td>XT</td>\n      <td>2</td>\n      <td>40</td>\n      <td>1</td>\n      <td>2021-03-10 00:07:52</td>\n      <td>2021-03-10 00:07:52</td>\n      <td>2021-03-10 00:07:53</td>\n      <td>2021-03-10 00:09:58</td>\n      <td>0.016667</td>\n      <td>2.083333</td>\n      <td>2.083333</td>\n    </tr>\n  </tbody>\n</table>\n</div>"
     },
     "metadata": {},
     "execution_count": 27
    }
   ],
   "source": [
    "df_final = df_id.set_index('job_name').join(df_logs_status)\n",
    "df_final.to_csv('../../data/teste.csv', sep=';', encoding='utf-8')\n",
    "df_final.head(15)"
   ]
  },
  {
   "cell_type": "code",
   "execution_count": null,
   "metadata": {},
   "outputs": [],
   "source": []
  }
 ]
}